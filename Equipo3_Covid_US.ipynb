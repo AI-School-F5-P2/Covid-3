{
 "cells": [
  {
   "cell_type": "markdown",
   "id": "cdb91063",
   "metadata": {},
   "source": [
    "# VISUALIZACION DEL IMPACTO DEL COVID-19 EN US \n",
    "\n",
    "Este dataset proporciona información detallada sobre casos confirmados y probables,muertes, hospitalizaciones, pruebas realizadas y otros datos relevantes relacionados con la pandemia de COVID-19 en diferentes estados o territorios.\n",
    "\n",
    "## Línea de importación de librerías y dataset\n"
   ]
  },
  {
   "cell_type": "code",
   "execution_count": 10,
   "id": "6cf19ecd",
   "metadata": {},
   "outputs": [
    {
     "ename": "ModuleNotFoundError",
     "evalue": "No module named 'us'",
     "output_type": "error",
     "traceback": [
      "\u001b[0;31m---------------------------------------------------------------------------\u001b[0m",
      "\u001b[0;31mModuleNotFoundError\u001b[0m                       Traceback (most recent call last)",
      "Cell \u001b[0;32mIn[10], line 7\u001b[0m\n\u001b[1;32m      5\u001b[0m \u001b[38;5;28;01mimport\u001b[39;00m \u001b[38;5;21;01mnumpy\u001b[39;00m \u001b[38;5;28;01mas\u001b[39;00m \u001b[38;5;21;01mnp\u001b[39;00m\n\u001b[1;32m      6\u001b[0m \u001b[38;5;28;01mimport\u001b[39;00m \u001b[38;5;21;01mplotly\u001b[39;00m\u001b[38;5;21;01m.\u001b[39;00m\u001b[38;5;21;01mexpress\u001b[39;00m \u001b[38;5;28;01mas\u001b[39;00m \u001b[38;5;21;01mpx\u001b[39;00m \n\u001b[0;32m----> 7\u001b[0m \u001b[38;5;28;01mimport\u001b[39;00m \u001b[38;5;21;01mus\u001b[39;00m\n",
      "\u001b[0;31mModuleNotFoundError\u001b[0m: No module named 'us'"
     ]
    }
   ],
   "source": [
    "import requests \n",
    "import matplotlib.pyplot as plt\n",
    "import seaborn as sns\n",
    "import pandas as pd\n",
    "import numpy as np\n",
    "import plotly.express as px \n",
    "import us"
   ]
  },
  {
   "cell_type": "code",
   "execution_count": null,
   "id": "47524dc4",
   "metadata": {},
   "outputs": [],
   "source": [
    "# Configuramos las opciones de visualización para mostrar todas las filas y columnas\n",
    "pd.set_option('display.max_columns', None)\n",
    "\n",
    "# Importamos dataset desde una URL\n",
    "url = \"https://api.covidtracking.com/v1/states/daily.json\"\n"
   ]
  },
  {
   "cell_type": "markdown",
   "id": "f128c33e",
   "metadata": {},
   "source": [
    "# Exploración Basica del Dataset"
   ]
  },
  {
   "cell_type": "markdown",
   "id": "f9fbf4cd",
   "metadata": {},
   "source": [
    " Este dataset contiene información relacionada con el seguimiento de la pandemia de COVID-19 en diferentes estados o territorios. Cada registro en el conjunto de datos corresponde a una recopilación de datos en una fecha específica.\n",
    " \n",
    "**El Proyecto de Rastreo de COVID ha finalizado la recopilación de todos los datos a partir del 7 de marzo de 2021. La API existente continuará funcionando hasta mayo de 2021, pero solo incluirá datos hasta el 7 de marzo de 2021.**\n",
    "\n",
    "\n",
    "A continuación, se describen los diferentes campos presentes en el dataset:\n",
    "\n",
    "**checkTimeEt:** Es un campo de tipo string y está marcado como \"Deprecated\", lo que significa que está obsoleto y ya no se utiliza.\n",
    "\n",
    "**commercialScore:** Es un campo de tipo entero (integer) y también está marcado como \"Deprecated\".\n",
    "\n",
    "**Returns:** Este campo se refiere a lo que se devuelve si no hay datos disponibles para los campos anteriores que son obsoletos. En este caso, se devuelve \"null\" cuando no hay datos disponibles.\n",
    "\n",
    "**dataQualityGrade:** Es un campo de tipo string que indica la calificación de la calidad de los datos informados por un estado. Esto es proporcionado por el \"The COVID Tracking Project\" y se refiere a la completitud de la presentación de datos por parte de un estado.\n",
    "\n",
    "**date:** Es un campo de tipo entero que representa la fecha en la que se recopilaron los datos por \"The COVID Tracking Project\".\n",
    "\n",
    "**dateChecked:** Es un campo de tipo string y también está marcado como \"Deprecated\".\n",
    "\n",
    "**dateModified:** Es un campo de tipo string y está marcado como \"Deprecated\". Se sugiere usar en su lugar el campo \"lastUpdateEt\".\n",
    "\n",
    "**death:** Es un campo de tipo entero y representa el total de personas fallecidas con diagnóstico confirmado o probable de COVID-19. Algunos estados pueden incluir solo las muertes con COVID-19 listadas en el certificado de defunción.\n",
    "\n",
    "**deathConfirmed:** Es un campo de tipo entero que representa el total de personas fallecidas con diagnóstico confirmado de COVID-19.\n",
    "\n",
    "**deathIncrease:** Es un campo de tipo entero y muestra el aumento diario en el número de muertes en comparación con el valor del día anterior.\n",
    "\n",
    "**deathProbable:** Es un campo de tipo entero que representa el total de personas fallecidas con diagnóstico probable de COVID-19.\n",
    "\n",
    "**fips:** Es un campo de tipo string que representa el código FIPS del estado.\n",
    "\n",
    "**grade:** Es un campo de tipo string y está marcado como \"Deprecated\".\n",
    "\n",
    "**hash:** Es un campo de tipo string y está marcado como \"Deprecated\".\n",
    "\n",
    "**hospitalized:** Es un campo de tipo entero y está marcado como \"Deprecated\".\n",
    "\n",
    "**hospitalizedCumulative:** Es un campo de tipo entero que representa el número total de personas que han sido hospitalizadas con COVID-19 desde el inicio de la pandemia.\n",
    "\n",
    "**hospitalizedCurrently:** Es un campo de tipo entero y muestra el número actual de personas hospitalizadas con COVID-19.\n",
    "\n",
    "**hospitalizedDischarged:** Es un campo de tipo entero que representa el número total de pacientes de COVID-19 dados de alta del hospital.\n",
    "\n",
    "**hospitalizedIncrease:** Es un campo de tipo entero y muestra el aumento diario en el número de hospitalizaciones en comparación con el valor del día anterior.\n",
    "\n",
    "**inIcuCumulative:** Es un campo de tipo entero que representa el número total de personas que han sido hospitalizadas en la Unidad de Cuidados Intensivos (UCI) con COVID-19 desde el inicio de la pandemia.\n",
    "\n",
    "**inIcuCurrently:** Es un campo de tipo entero y muestra el número actual de personas hospitalizadas en la UCI con COVID-19.\n",
    "\n",
    "**lastUpdateEt:** Es un campo de tipo string que indica la última fecha y hora en la que el estado o territorio actualizó los datos. Esta información se proporciona en hora del Este (ET).\n",
    "\n",
    "**negative:** Es un campo de tipo entero que representa el número total de personas con una prueba de PCR completada que da negativo.\n",
    "\n",
    "**negativeIncrease:** Es un campo de tipo entero y está marcado como \"Deprecated\".\n",
    "\n",
    "**negativeRegularScore:** Es un campo de tipo entero y está marcado como \"Deprecated\".\n",
    "\n",
    "**negativeScore:** Es un campo de tipo entero y está marcado como \"Deprecated\".\n",
    "\n",
    "**negativeTestsAntibody:** Es un campo de tipo entero que representa el número total de pruebas de anticuerpos completadas que dan negativo.\n",
    "\n",
    "**negativeTestsPeopleAntibody:** Es un campo de tipo entero que representa el número total de personas únicas con pruebas de anticuerpos completadas que dan negativo.\n",
    "\n",
    "**negativeTestsViral:** Es un campo de tipo entero que representa el número total de pruebas de PCR completadas que dan negativo.\n",
    "\n",
    "**onVentilatorCumulative:** Es un campo de tipo entero que representa el número total de personas que han sido hospitalizadas bajo ventilación avanzada con COVID-19 desde el inicio de la pandemia.\n",
    "\n",
    "**onVentilatorCurrently:** Es un campo de tipo entero y muestra el número actual de personas hospitalizadas bajo ventilación avanzada con COVID-19.\n",
    "\n",
    "**pending:** Es un campo de tipo entero que representa el número total de pruebas virales que no se han completado.\n",
    "\n",
    "**posNeg:** Es un campo de tipo entero y está marcado como \"Deprecated\".\n",
    "\n",
    "**positive:** Es un campo de tipo entero que representa el número total de casos confirmados y probables de COVID-19 informados por el estado o territorio.\n",
    "\n",
    "**positiveCasesViral:** Es un campo de tipo entero que representa el número total de personas únicas con una prueba de PCR o una prueba de amplificación de ácido nucleico (NAAT) aprobada y positiva.\n",
    "\n",
    "**positiveIncrease:** Es un campo de tipo entero y muestra el aumento diario en el número de casos positivos (confirmados y probables) en comparación con el valor del día anterior.\n",
    "\n",
    "**positiveScore:** Es un campo de tipo entero y está marcado como \"Deprecated\".\n",
    "\n",
    "**positiveTestsAntibody:** Es un campo de tipo entero que representa el número total de pruebas de anticuerpos completadas que dan positivo.\n",
    "\n",
    "**positiveTestsAntigen:** Es un campo de tipo entero que representa el número total de pruebas de antígenos completadas que dan positivo.\n",
    "\n",
    "**positiveTestsPeopleAntibody:** Es un campo de tipo entero que representa el número total de personas únicas con pruebas de anticuerpos completadas que dan positivo.\n",
    "\n",
    "**positiveTestsPeopleAntigen:** Es un campo de tipo entero que representa el número total de personas únicas con una prueba de antígeno completa que dan positivo.\n",
    "\n",
    "**positiveTestsViral:** Es un campo de tipo entero que representa el número total de pruebas de PCR completadas que dan positivo.\n",
    "\n",
    "**probableCases:** Es un campo de tipo entero que representa el número total de casos probables de COVID-19 informados por el estado o territorio.\n",
    "\n",
    "**recovered:** Es un campo de tipo entero que representa el número total de personas identificadas como recuperadas de COVID-19. Las definiciones de \"recuperado\" pueden variar según el estado o territorio.\n",
    "\n",
    "**score:** Es un campo de tipo entero y está marcado como \"Deprecated\".\n",
    "\n",
    "**state:** Es un campo de tipo string que representa el estado o territorio con una abreviatura de dos letras.\n",
    "\n",
    "**total:** Es un campo de tipo entero y está marcado como \"Deprecated\".\n",
    "\n",
    "**totalTestEncountersViral:** Es un campo de tipo entero que representa el número total de personas que se han sometido a pruebas de PCR por día, según lo informado por el estado o territorio.\n",
    "\n",
    "**totalTestResults:** Es un campo de tipo entero que representa el número total de resultados de pruebas realizadas. Este valor es una estadística resumida a nivel nacional y puede variar según los métodos de informe de pruebas en diferentes estados/territorios.\n",
    "\n",
    "**totalTestResultsIncrease:** Es un campo de tipo entero que muestra el aumento diario en el número total de resultados de pruebas en comparación con el valor del día anterior.\n",
    "\n",
    "**totalTestResultsSource:** Es un campo de tipo string que indica qué campo se está utilizando para los resultados totales de pruebas. Si es \"posNeg\", significa que se calcula sumando todos los valores positivos y negativos.\n",
    "\n",
    "**totalTestsAntibody:** Es un campo de tipo entero que representa el número total de pruebas de anticuerpos completadas.\n",
    "\n",
    "**totalTestsAntigen:** Es un campo de tipo entero que representa el número total de pruebas de antígenos completadas.\n",
    "\n",
    "**totalTestsPeopleAntibody:** Es un campo de tipo entero que representa el número total de personas únicas que han sido sometidas a pruebas de anticuerpos.\n",
    "\n",
    "**totalTestsPeopleAntigen:** Es un campo de tipo entero que representa el número total de personas únicas que han sido sometidas a pruebas de antígenos.\n",
    "\n",
    "**totalTestsPeopleViral:** Es un campo de tipo entero que representa el número total de personas únicas sometidas a pruebas de PCR.\n",
    "\n",
    "**totalTestsViral:** Es un campo de tipo entero que representa el número total de pruebas de PCR completadas. "
   ]
  },
  {
   "cell_type": "markdown",
   "id": "1e453f4b",
   "metadata": {},
   "source": [
    "# Visualización de datos"
   ]
  },
  {
   "cell_type": "code",
   "execution_count": null,
   "id": "e843daf4",
   "metadata": {},
   "outputs": [],
   "source": [
    "# Realizar la solicitud (request) para obtener los datos JSON\n",
    "response = requests.get(url)\n",
    "\n",
    "# Verificar que la solicitud fue exitosa (código de estado 200)\n",
    "if response.status_code == 200:\n",
    "    # Cargar los datos JSON en un DataFrame de pandas \n",
    "    data = response.json()\n",
    "    df = pd.DataFrame(data)\n",
    "    \n",
    "    # Mostrar las primeras filas del DataFrame\n",
    "    display(df)\n",
    "else:\n",
    "    print(\"No se pudo obtener los datos JSON. Código de estado:\", response.status_code)\n"
   ]
  },
  {
   "cell_type": "markdown",
   "id": "a9a8cc5f",
   "metadata": {},
   "source": [
    "## Análisis exploratorio preliminar\n",
    "\n",
    "Dataset con **20780** entradas y **56** campos de los cuales 14 están marcados como \"deprecated\" (a desestimar) en la documentación del proveedor de datos https://covidtracking.com/data/api --> \"Historic values for all states \".\n",
    "\n",
    "En el caso de campos con muchos datos incompletos, se valorará el método para lidiar con ellos (eliminación filas, columnas, imputación etc) en caso necesario. El campo **dataQualityGrade** puede ser eliminado porque no contiene ningún valor."
   ]
  },
  {
   "cell_type": "code",
   "execution_count": null,
   "id": "ba3d50a7",
   "metadata": {},
   "outputs": [],
   "source": [
    "#Exploramos tipos \n",
    "# - El número de filas y columnas (el tamaño del DataFrame).\n",
    "# - El nombre de cada columna y su tipo de datos.\n",
    "# - La cantidad de valores no nulos en cada columna. \n",
    "\n",
    "df.info()"
   ]
  },
  {
   "cell_type": "code",
   "execution_count": null,
   "id": "b842fc1c",
   "metadata": {},
   "outputs": [],
   "source": [
    "df.isnull().sum(axis = 0)"
   ]
  },
  {
   "cell_type": "markdown",
   "id": "c3f27bb0",
   "metadata": {},
   "source": [
    "## Preparación de Columnas para Análisis\n",
    "\n",
    "Las columnas principales para el posterior análisis son las siguientes:\n",
    "    \n",
    "\n",
    "**date** : tiene valores en todos los campos. El tipo de dato es \"float\" por lo que procedemos a cambiarlo por \"datetime\" que es más apropiado\n",
    "\n",
    "**state** : tiene valores en todos los campos por lo que ya está lista para operar\n",
    "\n",
    "**death**: como hemos visto anteriormente, presenta 850 valores nulos. En este caso sería conveniente entender la naturaleza de los mismos para discernir si es conveniente sustituirlos por 0 para futuros cálculos o no.\n",
    "\n",
    "**hospitalizedCurrently:** Es un campo de tipo entero y muestra el número actual de personas hospitalizadas con COVID-19."
   ]
  },
  {
   "cell_type": "markdown",
   "id": "b69b088e",
   "metadata": {},
   "source": [
    "### Se añade una columna con el nombre completo del Estado"
   ]
  },
  {
   "cell_type": "code",
   "execution_count": null,
   "id": "3a7626eb",
   "metadata": {},
   "outputs": [],
   "source": [
    "# Se usa libreria us\n",
    "df['State_Name'] = df['state'].apply(lambda x: us.states.lookup(x).name \n",
    "                                             if x and us.states.lookup(x) else None)"
   ]
  },
  {
   "cell_type": "code",
   "execution_count": null,
   "id": "195e4482",
   "metadata": {},
   "outputs": [],
   "source": [
    "# Se mueve la columna porque la añade como ultima columna y se quiere poner entre las primeras.\n",
    "columna_a_mover = 'State_Name'\n",
    "\n",
    "# Reordenar las columnas del DataFrame para mover 'nombre_estado' a la tercera posición\n",
    "columnas = list(df.columns)\n",
    "columnas.remove(columna_a_mover)\n",
    "nueva_posicion = 2  # Índice de la tercera posición (índices en pandas comienzan desde 0)\n",
    "columnas.insert(nueva_posicion, columna_a_mover)\n",
    "\n",
    "# Reindexar el DataFrame con las columnas en el nuevo orden\n",
    "df = df.reindex(columns=columnas)"
   ]
  },
  {
   "cell_type": "code",
   "execution_count": null,
   "id": "cb8f6ab8",
   "metadata": {},
   "outputs": [],
   "source": [
    "# Rellena todos los valores vacios que corresponden a el estado DE washington D.C. con un valor específico.\n",
    "df['State_Name'].fillna(\"Washington D.C.\", inplace=True)"
   ]
  },
  {
   "cell_type": "code",
   "execution_count": null,
   "id": "26b90b05",
   "metadata": {},
   "outputs": [],
   "source": [
    "valor_especifico = df.loc[(8), 'State_Name']\n",
    "\n",
    "# Imprime el valor específico para verificar que se haya rellenado\n",
    "# los valores vacios\n",
    "print(valor_especifico)"
   ]
  },
  {
   "cell_type": "markdown",
   "id": "7afbe87a",
   "metadata": {},
   "source": [
    "### Se transforma la columna de fecha a formato fecha"
   ]
  },
  {
   "cell_type": "code",
   "execution_count": null,
   "id": "ee5cbaa9",
   "metadata": {},
   "outputs": [],
   "source": [
    "df['date'] = pd.to_datetime(df['date'], format='%Y%m%d')"
   ]
  },
  {
   "cell_type": "markdown",
   "id": "98b540af",
   "metadata": {},
   "source": [
    "## Analisis para saber si valores faltantes de columna \"death\" se pueden rellenar con 0."
   ]
  },
  {
   "cell_type": "code",
   "execution_count": null,
   "id": "03c7b16d",
   "metadata": {},
   "outputs": [],
   "source": [
    "# Exploramos los valores \"null\" del campo \"death\" a lo largo del tiempo\n",
    "\n",
    "# Muertes totales por fecha\n",
    "total_death_by_date = df.groupby('date')['death'].sum()\n",
    "\n",
    "# valores nulos en el campo death por fecha\n",
    "missing_death_by_date = df['death'].isnull().groupby(df['date']).sum()\n",
    "\n",
    "# Create a secondary y-axis for the total deaths\n",
    "fig, ax1 = plt.subplots(figsize=(14,8))\n",
    "#fig.subplots_adjust(right=0.85)\n",
    "\n",
    "color = 'tab:blue'\n",
    "ax1.set_xlabel('Date')\n",
    "ax1.set_ylabel('Number of Missing Values', color=color)\n",
    "ax1.plot(missing_death_by_date, color=color)  # Change 'missing_death_all_dates' to 'missing_death_by_date'\n",
    "ax1.tick_params(axis='y', labelcolor=color)\n",
    "\n",
    "ax2 = ax1.twinx()  # instantiate a second axes that shares the same x-axis\n",
    "\n",
    "color = 'tab:red'\n",
    "ax2.set_ylabel('Total Deaths', color=color)  # we already handled the x-label with ax1\n",
    "ax2.plot(total_death_by_date, color=color)  # Change 'total_death_by_date' to total_death_by_date\n",
    "ax2.tick_params(axis='y', labelcolor=color)\n",
    "\n",
    "plt.title('Missing Values and Total Deaths in the \"death\" Column Over Time')\n",
    "fig.tight_layout()  # otherwise the right y-label is slightly clipped\n",
    "plt.show()"
   ]
  },
  {
   "cell_type": "markdown",
   "id": "e16823b0",
   "metadata": {},
   "source": [
    "## Justificación\n",
    "\n",
    "Al analizar la gráfica, se puede apreciar que los valores nulos correspondientes al campo \"death\" (representados por la línea azul) se encuentran concentrados en un período previo al inicio del registro de las primeras muertes en Estados Unidos (representadas por la línea roja). Por consiguiente, podemos inferir que durante este periodo anterior a abril de 2020, es factible reemplazar los valores vacíos por cero, con el objetivo de agilizar un análisis posterior.\n",
    "\n"
   ]
  },
  {
   "cell_type": "code",
   "execution_count": null,
   "id": "f8b4a7fd",
   "metadata": {},
   "outputs": [],
   "source": [
    "# Se procede a cambiar valores faltantes de columna death a 0.\n",
    "df['death'].fillna(0, inplace=True)"
   ]
  },
  {
   "cell_type": "markdown",
   "id": "95c36177",
   "metadata": {},
   "source": [
    "### Se eliminan las columnas que no necesitamos o que tienen datos nulos o vacios"
   ]
  },
  {
   "cell_type": "code",
   "execution_count": null,
   "id": "59cb50f5",
   "metadata": {},
   "outputs": [],
   "source": [
    "# Definimos las columnas que queremos eliminar\n",
    "columnas_eliminar = ['checkTimeEt', 'commercialScore', 'dateChecked', 'dateModified', 'grade', 'hash', \n",
    "                     'hospitalized', 'negativeIncrease', 'negativeRegularScore', 'negativeScore', \n",
    "                     'posNeg', 'positiveScore', 'score', 'total', 'dataQualityGrade']\n",
    "\n",
    "# Creamos un nuevo dataframe que no incluya esas columnas (deprecated)\n",
    "df = df.drop(columns=columnas_eliminar)\n",
    "\n",
    "# Información sobre el dataset (tipo de datos, campos nulos o vacíos)\n",
    "\n",
    "df.info()"
   ]
  },
  {
   "cell_type": "markdown",
   "id": "4de5a7c8",
   "metadata": {},
   "source": [
    "## Funcion Describe - Outliers\n"
   ]
  },
  {
   "cell_type": "code",
   "execution_count": null,
   "id": "acb23b30",
   "metadata": {},
   "outputs": [],
   "source": [
    "#Creamos una variable para agrupar los datos de la columna que queremos graficar\n",
    "death = df['death'].describe()\n",
    "print (death)"
   ]
  },
  {
   "cell_type": "code",
   "execution_count": null,
   "id": "fa074164",
   "metadata": {},
   "outputs": [],
   "source": [
    "#para sacar el iqr se calculan primero los q1 y q3\n",
    "q1 = death['25%']\n",
    "q3 = death['75%']\n",
    "print(q1)\n",
    "print(q3)\n",
    "iqr = q3 - q1\n",
    "print(iqr)"
   ]
  },
  {
   "cell_type": "code",
   "execution_count": null,
   "id": "0736a87b",
   "metadata": {},
   "outputs": [],
   "source": [
    "#Se saca el minimos y maximos con los calculos anteriores\n",
    "max_death = q3 + 1.5*iqr\n",
    "min_death = q1 - 1.5*iqr\n",
    "print(max_death)\n",
    "print(min_death)"
   ]
  },
  {
   "cell_type": "code",
   "execution_count": null,
   "id": "5d80dbde",
   "metadata": {},
   "outputs": [],
   "source": [
    "#Se crea la variable del filtro lower_limit\n",
    "#Reviso cuales valores estan por debajo del limite minimo (se mostrarán con True y False)\n",
    "lower_limit = (df['death'] < min_death)\n",
    "\n",
    "lower_limit"
   ]
  },
  {
   "cell_type": "code",
   "execution_count": null,
   "id": "895c70a2",
   "metadata": {},
   "outputs": [],
   "source": [
    "#Se prueba el filtro para revisar si hay outliers\n",
    "df[lower_limit]"
   ]
  },
  {
   "cell_type": "code",
   "execution_count": null,
   "id": "4ed81ecc",
   "metadata": {},
   "outputs": [],
   "source": [
    "#Se crea la variable del filtro upper_limit\n",
    "#Reviso cuales valores estan por encima del limite maximo (se mostrarán con True y False)\n",
    "upper_limit = (df['death'] > max_death)\n",
    "\n",
    "upper_limit"
   ]
  },
  {
   "cell_type": "code",
   "execution_count": null,
   "id": "7fdff647",
   "metadata": {},
   "outputs": [],
   "source": [
    "#Se prueba el filtro para revisar si hay outliers\n",
    "df[upper_limit]"
   ]
  },
  {
   "cell_type": "markdown",
   "id": "fecac8cb",
   "metadata": {},
   "source": [
    "## Graficas"
   ]
  },
  {
   "cell_type": "code",
   "execution_count": null,
   "id": "8bb25810",
   "metadata": {},
   "outputs": [],
   "source": [
    "#Se grafica la columna death sin filtros outlier\n",
    "px.box(df, y = 'death')"
   ]
  },
  {
   "cell_type": "code",
   "execution_count": null,
   "id": "acd084b9",
   "metadata": {},
   "outputs": [],
   "source": [
    "#Se aplica el filtro de max outliers de columna death.\n",
    "#Diagrama de cajas Interactiva\n",
    "px.box(df, y = df[upper_limit]['death'])"
   ]
  },
  {
   "cell_type": "code",
   "execution_count": null,
   "id": "500b9458",
   "metadata": {},
   "outputs": [],
   "source": [
    "#Muertos por estados\n",
    "\n",
    "grouped = df.groupby(\"state\").agg({\"death\": 'sum','deathIncrease':'sum'}).sort_values(by=\"death\", ascending=False).head(30)\n",
    "grouped"
   ]
  },
  {
   "cell_type": "code",
   "execution_count": null,
   "id": "bc4727b9",
   "metadata": {},
   "outputs": [],
   "source": [
    "# Se grafica de todos muertos por estados\n",
    "\n",
    "plt.figure(figsize=(10, 8))\n",
    "grouped_reset = grouped.reset_index()  # Reset the index\n",
    "grouped_melted = grouped_reset.melt(id_vars=\"state\", value_vars=[\"death\"], var_name=\"Count Type\", value_name=\"Count\")\n",
    "sns.barplot(x=\"Count\", y=\"state\", hue=\"Count Type\", data=grouped_melted)\n",
    "plt.xlabel(\"Count\")\n",
    "plt.ylabel(\"State\")\n",
    "plt.title(\"Total Death by State\")\n",
    "plt.legend()\n",
    "plt.show()"
   ]
  },
  {
   "cell_type": "markdown",
   "id": "54aa7110",
   "metadata": {},
   "source": [
    "## Population by state 10 top\n",
    "\n",
    "- California: Approximately 39.5 million people\n",
    "- Texas: Approximately 29.8 million people\n",
    "- Florida: Approximately 21.7 million people\n",
    "- New York: Approximately 20.2 million people\n",
    "- Pennsylvania: Approximately 13.1 million people\n",
    "- Illinois: Approximately 12.7 million people\n",
    "- Ohio: Approximately 11.8 million people\n",
    "- Georgia: Approximately 10.8 million people\n",
    "- North Carolina: Approximately 10.7 million people\n",
    "- Michigan: Approximately 10.1 million people\n"
   ]
  },
  {
   "cell_type": "code",
   "execution_count": null,
   "id": "18bae9d7",
   "metadata": {},
   "outputs": [],
   "source": [
    "# Inrcemento de fallecidos por estados\n",
    "\n",
    "plt.figure(figsize=(10, 8))\n",
    "grouped_reset = grouped.reset_index()  # Reset the index\n",
    "grouped_melted = grouped_reset.melt(id_vars=\"state\", value_vars=[\"deathIncrease\"], var_name=\"Count Type\", value_name=\"Count\")\n",
    "sns.barplot(x=\"Count\", y=\"state\", hue=\"Count Type\", data=grouped_melted)\n",
    "plt.xlabel(\"Count\")\n",
    "plt.ylabel(\"State\")\n",
    "plt.title(\"Total Death Increase by State\")\n",
    "plt.legend()\n",
    "plt.show()"
   ]
  },
  {
   "cell_type": "markdown",
   "id": "dfc719e1",
   "metadata": {},
   "source": [
    "### Visualización de las primeras filas del dataset con información de fecha y muertes\n"
   ]
  },
  {
   "cell_type": "code",
   "execution_count": null,
   "id": "4d3e4c08",
   "metadata": {},
   "outputs": [],
   "source": [
    "#Se cambia el formato de la columna date por formato fecha\n",
    "\n",
    "df['date'] = pd.to_datetime(df['date'], format='%Y%m%d')\n",
    "df['death'] = df['death'].apply(lambda x: str(x).rstrip('.0'))\n",
    "df['deathIncrease'] = df['deathIncrease'].apply(lambda x: 'NoIncrease' if x == 0 else x)\n",
    "df[['date', 'state', 'death', 'deathIncrease']].sort_values(by='date', ascending=False).head(10)"
   ]
  },
  {
   "cell_type": "code",
   "execution_count": null,
   "id": "b334e999",
   "metadata": {},
   "outputs": [],
   "source": []
  },
  {
   "cell_type": "code",
   "execution_count": null,
   "id": "f158af2c",
   "metadata": {},
   "outputs": [],
   "source": []
  }
 ],
 "metadata": {
  "kernelspec": {
   "display_name": "Python 3 (ipykernel)",
   "language": "python",
   "name": "python3"
  },
  "language_info": {
   "codemirror_mode": {
    "name": "ipython",
    "version": 3
   },
   "file_extension": ".py",
   "mimetype": "text/x-python",
   "name": "python",
   "nbconvert_exporter": "python",
   "pygments_lexer": "ipython3",
   "version": "3.10.10"
  }
 },
 "nbformat": 4,
 "nbformat_minor": 5
}
