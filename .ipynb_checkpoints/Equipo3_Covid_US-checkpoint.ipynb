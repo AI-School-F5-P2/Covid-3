{
 "cells": [
  {
   "cell_type": "markdown",
   "id": "cdb91063",
   "metadata": {},
   "source": [
    "# VISUALIZACION DEL IMPACTO DEL COVID-19 EN US \n",
    "\n",
    "Este dataset proporciona información detallada sobre casos confirmados y probables,muertes, hospitalizaciones, pruebas realizadas y otros datos relevantes relacionados con la pandemia de COVID-19 en diferentes estados o territorios.\n",
    "\n",
    "## Línea de importación de librerías y dataset\n"
   ]
  },
  {
   "cell_type": "code",
   "execution_count": null,
   "id": "6cf19ecd",
   "metadata": {},
   "outputs": [],
   "source": [
    "import requests \n",
    "import matplotlib.pyplot as plt\n",
    "import seaborn as sns\n",
    "import pandas as pd\n",
    "import numpy as np"
   ]
  },
  {
   "cell_type": "code",
   "execution_count": null,
   "id": "47524dc4",
   "metadata": {},
   "outputs": [],
   "source": [
    "# Importamos dataset\n",
    "\n",
    "url = \"https://api.covidtracking.com/v1/states/daily.json\"\n"
   ]
  }
 ],
 "metadata": {
  "kernelspec": {
   "display_name": "Python 3 (ipykernel)",
   "language": "python",
   "name": "python3"
  },
  "language_info": {
   "codemirror_mode": {
    "name": "ipython",
    "version": 3
   },
   "file_extension": ".py",
   "mimetype": "text/x-python",
   "name": "python",
   "nbconvert_exporter": "python",
   "pygments_lexer": "ipython3",
   "version": "3.10.6"
  }
 },
 "nbformat": 4,
 "nbformat_minor": 5
}
